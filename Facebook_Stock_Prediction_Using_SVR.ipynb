{
  "nbformat": 4,
  "nbformat_minor": 0,
  "metadata": {
    "colab": {
      "name": "Facebook_Stock_Prediction_Using_SVR.ipynb",
      "provenance": [],
      "authorship_tag": "ABX9TyNbXkHmf/dGDSleFFNkom7U",
      "include_colab_link": true
    },
    "kernelspec": {
      "name": "python3",
      "display_name": "Python 3"
    },
    "language_info": {
      "name": "python"
    }
  },
  "cells": [
    {
      "cell_type": "markdown",
      "metadata": {
        "id": "view-in-github",
        "colab_type": "text"
      },
      "source": [
        "<a href=\"https://colab.research.google.com/github/Shishukumar74/Facebook_Stock_Prediction/blob/main/Facebook_Stock_Prediction_Using_SVR.ipynb\" target=\"_parent\"><img src=\"https://colab.research.google.com/assets/colab-badge.svg\" alt=\"Open In Colab\"/></a>"
      ]
    },
    {
      "cell_type": "code",
      "metadata": {
        "id": "b00CUzv2KmT8"
      },
      "source": [
        "# Import libraries\n",
        "from sklearn.svm import SVR\n",
        "import pandas as pd\n",
        "import numpy as np\n",
        "import matplotlib.pyplot as plt\n",
        "plt.style.use('fivethirtyeight')"
      ],
      "execution_count": null,
      "outputs": []
    },
    {
      "cell_type": "code",
      "metadata": {
        "id": "BrOkj25vgft-"
      },
      "source": [
        "# Loading the dataset\n",
        "from google.colab import files\n",
        "uploaded = files.upload()"
      ],
      "execution_count": null,
      "outputs": []
    },
    {
      "cell_type": "code",
      "metadata": {
        "id": "KVdO3TwbgsLb"
      },
      "source": [
        "# Store and show the data\n",
        "df = pd.read_csv(\"Facebook.csv\")\n",
        "df"
      ],
      "execution_count": null,
      "outputs": []
    },
    {
      "cell_type": "code",
      "metadata": {
        "id": "eTDl4okfhEQi"
      },
      "source": [
        "# Get first five rows of dataset\n",
        "df.head(5)"
      ],
      "execution_count": null,
      "outputs": []
    },
    {
      "cell_type": "code",
      "metadata": {
        "id": "1y2OUcw1hJ4T"
      },
      "source": [
        "# Get last five rows of dataset\n",
        "df.tail(5)"
      ],
      "execution_count": null,
      "outputs": []
    },
    {
      "cell_type": "code",
      "metadata": {
        "id": "eylnFXqwhMWp"
      },
      "source": [
        "# Total number of rows and column in the dataset\n",
        "df.shape"
      ],
      "execution_count": null,
      "outputs": []
    },
    {
      "cell_type": "code",
      "metadata": {
        "id": "bdDG0Juv-q-P"
      },
      "source": [
        "# Get statistical aspect of dataset\n",
        "df.describe()"
      ],
      "execution_count": null,
      "outputs": []
    },
    {
      "cell_type": "code",
      "metadata": {
        "id": "6QaC-gnP-0ZH"
      },
      "source": [
        "# Get complete information about dataset\n",
        "df.info()"
      ],
      "execution_count": null,
      "outputs": []
    },
    {
      "cell_type": "code",
      "metadata": {
        "id": "ow4ihf0whbGp"
      },
      "source": [
        "# Get last row of dataset\n",
        "actual_price = df.tail(1)\n",
        "actual_price"
      ],
      "execution_count": null,
      "outputs": []
    },
    {
      "cell_type": "code",
      "metadata": {
        "id": "FQeN6NlCiA-r"
      },
      "source": [
        "# Prepare data for SVR model\n",
        "df = df.head(len(df)-1)\n",
        "print(df)"
      ],
      "execution_count": null,
      "outputs": []
    },
    {
      "cell_type": "code",
      "metadata": {
        "id": "afcnpO2FifR0"
      },
      "source": [
        "# Create empty list to store independent and dependent data\n",
        "days = list()\n",
        "adj_close_prices = list()"
      ],
      "execution_count": null,
      "outputs": []
    },
    {
      "cell_type": "code",
      "metadata": {
        "id": "PQlV3CY8jqfw"
      },
      "source": [
        "# Get dates and adj close price column\n",
        "df_days = df.loc[:,\"Date\"]\n",
        "df_adj_close = df.loc[:,\"Adj Close\"]"
      ],
      "execution_count": null,
      "outputs": []
    },
    {
      "cell_type": "code",
      "metadata": {
        "id": "_Rq0_aqnkKl6"
      },
      "source": [
        "# Create the independent dataset\n",
        "for day in df_days:\n",
        "  days.append([int(day.split(\"-\")[1])])"
      ],
      "execution_count": null,
      "outputs": []
    },
    {
      "cell_type": "code",
      "metadata": {
        "id": "tQq8v37ilXDZ"
      },
      "source": [
        "# Create the dependent dataset\n",
        "for adj_close_price in df_adj_close:\n",
        "  adj_close_prices.append(float(adj_close_price))"
      ],
      "execution_count": null,
      "outputs": []
    },
    {
      "cell_type": "code",
      "metadata": {
        "id": "D4TD0crzmGl2"
      },
      "source": [
        "# Print days and adj_close_prices\n",
        "print(days)\n",
        "print(adj_close_prices)"
      ],
      "execution_count": null,
      "outputs": []
    },
    {
      "cell_type": "code",
      "metadata": {
        "id": "v6dmPvP6A0kd"
      },
      "source": [
        "# Create and train a SVR model using a linear kernel\n",
        "lin_svr = SVR(kernel=\"linear\",C=1000.0)\n",
        "lin_svr.fit(days,adj_close_prices)"
      ],
      "execution_count": null,
      "outputs": []
    },
    {
      "cell_type": "code",
      "metadata": {
        "id": "JMyov29ZMho3"
      },
      "source": [
        "# Create and train a SVR model using a polynomial kernel\n",
        "poly_svr = SVR(kernel=\"poly\",C=1000.0)\n",
        "poly_svr.fit(days,adj_close_prices)"
      ],
      "execution_count": null,
      "outputs": []
    },
    {
      "cell_type": "code",
      "metadata": {
        "id": "pCKKEjuJFKgE"
      },
      "source": [
        "# Create and train a SVR model using a rbf kernel\n",
        "rbf_svr = SVR(kernel=\"rbf\",C=1000.0,gamma=0.15)\n",
        "rbf_svr.fit(days,adj_close_prices)"
      ],
      "execution_count": null,
      "outputs": []
    },
    {
      "cell_type": "code",
      "metadata": {
        "id": "MEqg0tCkNc9y"
      },
      "source": [
        "# Ploting model\n",
        "plt.figure(figsize=(16,8))\n",
        "plt.scatter(days, adj_close_prices, color=\"red\", label=\"Data\")\n",
        "plt.plot(days,rbf_svr.predict(days), color=\"green\", label=\"RBF Model\")\n",
        "plt.plot(days,lin_svr.predict(days), color=\"orange\", label=\"Linear Model\")\n",
        "plt.plot(days,poly_svr.predict(days), color=\"blue\", label=\"Polynomial Model\")\n",
        "plt.legend()\n",
        "plt.show()\n"
      ],
      "execution_count": null,
      "outputs": []
    },
    {
      "cell_type": "code",
      "metadata": {
        "id": "T69Auv8PO-yt"
      },
      "source": [
        "# Print price of specific given date\n",
        "day = [[29]]\n",
        "print(rbf_svr.predict(day))\n",
        "print(lin_svr.predict(day))\n",
        "print(poly_svr.predict(day))"
      ],
      "execution_count": null,
      "outputs": []
    },
    {
      "cell_type": "code",
      "metadata": {
        "id": "BOovkmrXRMNO"
      },
      "source": [
        "# Print actual price\n",
        "print(actual_price[\"Adj Close\"][2356])"
      ],
      "execution_count": null,
      "outputs": []
    }
  ]
}